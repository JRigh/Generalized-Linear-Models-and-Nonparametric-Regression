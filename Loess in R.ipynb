{
 "cells": [
  {
   "cell_type": "markdown",
   "metadata": {},
   "source": [
    "# the loess fit in R\n",
    "\n",
    "In this lesson, we will briefly describe how to fit the loess model in R.\n",
    "\n",
    "For visualization purposes, `ggplot` makes fitting and visualizing loess very easy, by adding on the `geom_smooth()` function to a scatter plot. Let's see this on our simulated data. As in an earlier lesson, we'll create a data frame, with a predictor, $x$, as realizations from a $U(0,\\pi/2)$, and let $Y = \\sin(\\pi x) + \\varepsilon$, where $\\varepsilon \\overset{iid}{\\sim} N(0,0.5^2)$."
   ]
  },
  {
   "cell_type": "code",
   "execution_count": 1,
   "metadata": {
    "scrolled": false
   },
   "outputs": [
    {
     "data": {
      "text/html": [
       "<table>\n",
       "<caption>A data.frame: 6 × 2</caption>\n",
       "<thead>\n",
       "\t<tr><th></th><th scope=col>x</th><th scope=col>y</th></tr>\n",
       "\t<tr><th></th><th scope=col>&lt;dbl&gt;</th><th scope=col>&lt;dbl&gt;</th></tr>\n",
       "</thead>\n",
       "<tbody>\n",
       "\t<tr><th scope=row>1</th><td>0.3760199</td><td>5.763870</td></tr>\n",
       "\t<tr><th scope=row>2</th><td>0.9016790</td><td>4.300436</td></tr>\n",
       "\t<tr><th scope=row>3</th><td>1.2164907</td><td>3.843510</td></tr>\n",
       "\t<tr><th scope=row>4</th><td>1.3107582</td><td>2.465646</td></tr>\n",
       "\t<tr><th scope=row>5</th><td>0.4385922</td><td>5.737440</td></tr>\n",
       "\t<tr><th scope=row>6</th><td>1.0267308</td><td>4.600813</td></tr>\n",
       "</tbody>\n",
       "</table>\n"
      ],
      "text/latex": [
       "A data.frame: 6 × 2\n",
       "\\begin{tabular}{r|ll}\n",
       "  & x & y\\\\\n",
       "  & <dbl> & <dbl>\\\\\n",
       "\\hline\n",
       "\t1 & 0.3760199 & 5.763870\\\\\n",
       "\t2 & 0.9016790 & 4.300436\\\\\n",
       "\t3 & 1.2164907 & 3.843510\\\\\n",
       "\t4 & 1.3107582 & 2.465646\\\\\n",
       "\t5 & 0.4385922 & 5.737440\\\\\n",
       "\t6 & 1.0267308 & 4.600813\\\\\n",
       "\\end{tabular}\n"
      ],
      "text/markdown": [
       "\n",
       "A data.frame: 6 × 2\n",
       "\n",
       "| <!--/--> | x &lt;dbl&gt; | y &lt;dbl&gt; |\n",
       "|---|---|---|\n",
       "| 1 | 0.3760199 | 5.763870 |\n",
       "| 2 | 0.9016790 | 4.300436 |\n",
       "| 3 | 1.2164907 | 3.843510 |\n",
       "| 4 | 1.3107582 | 2.465646 |\n",
       "| 5 | 0.4385922 | 5.737440 |\n",
       "| 6 | 1.0267308 | 4.600813 |\n",
       "\n"
      ],
      "text/plain": [
       "  x         y       \n",
       "1 0.3760199 5.763870\n",
       "2 0.9016790 4.300436\n",
       "3 1.2164907 3.843510\n",
       "4 1.3107582 2.465646\n",
       "5 0.4385922 5.737440\n",
       "6 1.0267308 4.600813"
      ]
     },
     "metadata": {},
     "output_type": "display_data"
    }
   ],
   "source": [
    "library(ggplot2)\n",
    "\n",
    "#simulate the data\n",
    "set.seed(88888)\n",
    "n = 150\n",
    "x = runif(n, 0, pi/2) \n",
    "y = sin(pi*x) + rnorm(n, 0, 0.5) + 4\n",
    "\n",
    "df = data.frame(x = x, y = y)\n",
    "head(df)"
   ]
  },
  {
   "cell_type": "code",
   "execution_count": 2,
   "metadata": {
    "scrolled": false
   },
   "outputs": [
    {
     "name": "stderr",
     "output_type": "stream",
     "text": [
      "Saving 6.67 x 6.67 in image\n",
      "\n"
     ]
    },
    {
     "ename": "ERROR",
     "evalue": "Error in grDevices::pdf(file = filename, ..., version = version): cannot open file '~/CU Google Drive/loess.pdf'\n",
     "output_type": "error",
     "traceback": [
      "Error in grDevices::pdf(file = filename, ..., version = version): cannot open file '~/CU Google Drive/loess.pdf'\nTraceback:\n",
      "1. ggsave(\"~/CU Google Drive/loess.pdf\")",
      "2. dev(filename = filename, width = dim[1], height = dim[2], ...)",
      "3. grDevices::pdf(file = filename, ..., version = version)"
     ]
    }
   ],
   "source": [
    "options(repr.plot.width = 5, repr.plot.height = 5)\n",
    "ggplot(df, aes(x = x, y = y)) + \n",
    "    geom_point(alpha = 0.5) + \n",
    "    geom_smooth(col = \"#CFB87C\") + \n",
    "    theme_bw() + \n",
    "    ggsave(\"~/CU Google Drive/loess.pdf\")\n",
    "\n",
    "options(repr.plot.width = 5, repr.plot.height = 5)\n",
    "ggplot(df, aes(x = x, y = y)) + \n",
    "    geom_point(alpha = 0.5) + \n",
    "    geom_smooth(method = \"lm\", col = \"black\") +\n",
    "    theme_bw() + \n",
    "    ggsave(\"~/CU Google Drive/loess.pdf\")"
   ]
  },
  {
   "cell_type": "markdown",
   "metadata": {},
   "source": [
    "Note that the loess captures the systematic variability in the data much better than linear regression does. \n",
    "\n",
    "For prediction purposes, rather than visualization purposes, we can use the `loess()` function. This function fits the loess model, much like `lm()` fits a linear regression model. Once we fit the model, we can use the `predict()` function to make predictions.\n",
    "\n",
    "Let's first fit a loess model to the simulated data, specify a few $x$ points to make predictions, and then predict at those points!"
   ]
  },
  {
   "cell_type": "code",
   "execution_count": 3,
   "metadata": {},
   "outputs": [
    {
     "name": "stdout",
     "output_type": "stream",
     "text": [
      "Here are the predicted values:  4.327202 5.005175 5.105046 4.74764 ."
     ]
    }
   ],
   "source": [
    "l = loess(y ~ x, data = df)\n",
    "newdata = seq(0.1,0.75, length.out = 4)\n",
    "p = predict(l, newdata, se = T)\n",
    "cat(\"Here are the predicted values: \", p$fit, \".\")"
   ]
  },
  {
   "cell_type": "markdown",
   "metadata": {},
   "source": [
    "Here, notice that we've set `se = T`, so that we also obtain the standard errors associated with the model. This is helpful in producing confidence intervals, for example, `p$se` and `p$df` returns the standard error and the estimated degrees of freedom of the loess model, which we can use to construct t-intervals:"
   ]
  },
  {
   "cell_type": "code",
   "execution_count": 4,
   "metadata": {},
   "outputs": [
    {
     "data": {
      "text/html": [
       "<dl>\n",
       "\t<dt>$fit</dt>\n",
       "\t\t<dd><style>\n",
       ".list-inline {list-style: none; margin:0; padding: 0}\n",
       ".list-inline>li {display: inline-block}\n",
       ".list-inline>li:not(:last-child)::after {content: \"\\00b7\"; padding: 0 .5ex}\n",
       "</style>\n",
       "<ol class=list-inline><li>4.32720243714322</li><li>5.00517505815559</li><li>5.10504552303677</li><li>4.74763957199038</li></ol>\n",
       "</dd>\n",
       "\t<dt>$se.fit</dt>\n",
       "\t\t<dd><style>\n",
       ".list-inline {list-style: none; margin:0; padding: 0}\n",
       ".list-inline>li {display: inline-block}\n",
       ".list-inline>li:not(:last-child)::after {content: \"\\00b7\"; padding: 0 .5ex}\n",
       "</style>\n",
       "<ol class=list-inline><li>0.0966497209521878</li><li>0.0639114893755577</li><li>0.0655554633999541</li><li>0.0658114248123374</li></ol>\n",
       "</dd>\n",
       "\t<dt>$residual.scale</dt>\n",
       "\t\t<dd>0.453407012046238</dd>\n",
       "\t<dt>$df</dt>\n",
       "\t\t<dd>145.126908424397</dd>\n",
       "</dl>\n"
      ],
      "text/latex": [
       "\\begin{description}\n",
       "\\item[\\$fit] \\begin{enumerate*}\n",
       "\\item 4.32720243714322\n",
       "\\item 5.00517505815559\n",
       "\\item 5.10504552303677\n",
       "\\item 4.74763957199038\n",
       "\\end{enumerate*}\n",
       "\n",
       "\\item[\\$se.fit] \\begin{enumerate*}\n",
       "\\item 0.0966497209521878\n",
       "\\item 0.0639114893755577\n",
       "\\item 0.0655554633999541\n",
       "\\item 0.0658114248123374\n",
       "\\end{enumerate*}\n",
       "\n",
       "\\item[\\$residual.scale] 0.453407012046238\n",
       "\\item[\\$df] 145.126908424397\n",
       "\\end{description}\n"
      ],
      "text/markdown": [
       "$fit\n",
       ":   1. 4.32720243714322\n",
       "2. 5.00517505815559\n",
       "3. 5.10504552303677\n",
       "4. 4.74763957199038\n",
       "\n",
       "\n",
       "\n",
       "$se.fit\n",
       ":   1. 0.0966497209521878\n",
       "2. 0.0639114893755577\n",
       "3. 0.0655554633999541\n",
       "4. 0.0658114248123374\n",
       "\n",
       "\n",
       "\n",
       "$residual.scale\n",
       ":   0.453407012046238\n",
       "$df\n",
       ":   145.126908424397\n",
       "\n",
       "\n"
      ],
      "text/plain": [
       "$fit\n",
       "[1] 4.327202 5.005175 5.105046 4.747640\n",
       "\n",
       "$se.fit\n",
       "[1] 0.09664972 0.06391149 0.06555546 0.06581142\n",
       "\n",
       "$residual.scale\n",
       "[1] 0.453407\n",
       "\n",
       "$df\n",
       "[1] 145.1269\n"
      ]
     },
     "metadata": {},
     "output_type": "display_data"
    },
    {
     "name": "stdout",
     "output_type": "stream",
     "text": [
      " Here are the confidence intervals associated with predictions at the new data:"
     ]
    },
    {
     "data": {
      "text/html": [
       "<table>\n",
       "<caption>A matrix: 4 × 2 of type dbl</caption>\n",
       "<tbody>\n",
       "\t<tr><td>4.136180</td><td>4.518225</td></tr>\n",
       "\t<tr><td>4.878858</td><td>5.131493</td></tr>\n",
       "\t<tr><td>4.975479</td><td>5.234612</td></tr>\n",
       "\t<tr><td>4.617567</td><td>4.877712</td></tr>\n",
       "</tbody>\n",
       "</table>\n"
      ],
      "text/latex": [
       "A matrix: 4 × 2 of type dbl\n",
       "\\begin{tabular}{ll}\n",
       "\t 4.136180 & 4.518225\\\\\n",
       "\t 4.878858 & 5.131493\\\\\n",
       "\t 4.975479 & 5.234612\\\\\n",
       "\t 4.617567 & 4.877712\\\\\n",
       "\\end{tabular}\n"
      ],
      "text/markdown": [
       "\n",
       "A matrix: 4 × 2 of type dbl\n",
       "\n",
       "| 4.136180 | 4.518225 |\n",
       "| 4.878858 | 5.131493 |\n",
       "| 4.975479 | 5.234612 |\n",
       "| 4.617567 | 4.877712 |\n",
       "\n"
      ],
      "text/plain": [
       "     [,1]     [,2]    \n",
       "[1,] 4.136180 4.518225\n",
       "[2,] 4.878858 5.131493\n",
       "[3,] 4.975479 5.234612\n",
       "[4,] 4.617567 4.877712"
      ]
     },
     "metadata": {},
     "output_type": "display_data"
    }
   ],
   "source": [
    "p\n",
    "ce = cbind(p$fit - qt(0.975,p$df)*p$se, p$fit + qt(0.975,p$df)*p$se)\n",
    "\n",
    "cat(\" Here are the confidence intervals associated with predictions at the new data:\")\n",
    "ce"
   ]
  },
  {
   "cell_type": "markdown",
   "metadata": {},
   "source": [
    "Recall that prediction intervals are different from confidence intervals, and require a different standard error calculation. The `predict()` function does not calculate prediction standard errors. "
   ]
  },
  {
   "cell_type": "markdown",
   "metadata": {},
   "source": [
    "#### The bone density data\n",
    "\n",
    "Of course, it would be nice to see how loess does on real data. The bone data (in the ElemStatLearn) package has 485 observations on the following 4 variables:\n",
    "\n",
    "1. idnum: identifies the child, and hence the repeat measurements\n",
    "\n",
    "2. age: average of age at two visits\n",
    "\n",
    "3. gender: a factor with levels female male\n",
    "\n",
    "4. spnbmd: Relative spinal bone mineral density measurement\n",
    "\n",
    "For simplicity, let's consider modeling age against relative spinal bone mineral density. An exploratory plot shows that the relationship doesn't look quite linear, and the `ggplot` loess fit captures that nonlinearity. "
   ]
  },
  {
   "cell_type": "code",
   "execution_count": 5,
   "metadata": {},
   "outputs": [
    {
     "ename": "ERROR",
     "evalue": "Error in library(ElemStatLearn): there is no package called ‘ElemStatLearn’\n",
     "output_type": "error",
     "traceback": [
      "Error in library(ElemStatLearn): there is no package called ‘ElemStatLearn’\nTraceback:\n",
      "1. library(ElemStatLearn)"
     ]
    }
   ],
   "source": [
    "library(ggplot2)\n",
    "library(ElemStatLearn)\n",
    "head(bone)\n",
    "\n",
    "ggplot(bone, aes(age, spnbmd)) + \n",
    "    geom_point(color = \"black\", alpha = 0.5) + \n",
    "    geom_smooth(method = \"loess\", color = \"#CFB87C\") +\n",
    "    theme_bw() + \n",
    "    xlab(\"Age\") + \n",
    "    ylab(\"Relative Spinal bone mineral density\")"
   ]
  },
  {
   "cell_type": "markdown",
   "metadata": {},
   "source": [
    "In terms of a visual assessment, this fit looks good! We can also use the `loess()` function to make predictions:"
   ]
  },
  {
   "cell_type": "code",
   "execution_count": 6,
   "metadata": {},
   "outputs": [
    {
     "ename": "ERROR",
     "evalue": "Error in is.data.frame(data): object 'bone' not found\n",
     "output_type": "error",
     "traceback": [
      "Error in is.data.frame(data): object 'bone' not found\nTraceback:\n",
      "1. loess(spnbmd ~ age, data = bone)",
      "2. eval(mf, parent.frame())",
      "3. eval(mf, parent.frame())",
      "4. stats::model.frame(formula = spnbmd ~ age, data = bone)",
      "5. model.frame.default(formula = spnbmd ~ age, data = bone)",
      "6. is.data.frame(data)"
     ]
    }
   ],
   "source": [
    "loess_bone = loess(spnbmd ~ age, data = bone)\n",
    "newdata = seq(10,25, length.out = 4)\n",
    "predict(loess_bone, newdata)"
   ]
  },
  {
   "cell_type": "code",
   "execution_count": null,
   "metadata": {},
   "outputs": [],
   "source": []
  },
  {
   "cell_type": "code",
   "execution_count": null,
   "metadata": {},
   "outputs": [],
   "source": []
  }
 ],
 "metadata": {
  "kernelspec": {
   "display_name": "R",
   "language": "R",
   "name": "ir"
  }
 },
 "nbformat": 4,
 "nbformat_minor": 2
}
